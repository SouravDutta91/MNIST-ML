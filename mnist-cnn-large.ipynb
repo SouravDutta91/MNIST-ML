{
 "cells": [
  {
   "cell_type": "code",
   "execution_count": 1,
   "metadata": {},
   "outputs": [
    {
     "name": "stderr",
     "output_type": "stream",
     "text": [
      "/home/sourav/anaconda3/lib/python3.6/site-packages/h5py/__init__.py:36: FutureWarning: Conversion of the second argument of issubdtype from `float` to `np.floating` is deprecated. In future, it will be treated as `np.float64 == np.dtype(float).type`.\n",
      "  from ._conv import register_converters as _register_converters\n",
      "Using TensorFlow backend.\n"
     ]
    }
   ],
   "source": [
    "import numpy as np\n",
    "from keras.datasets import mnist\n",
    "from keras.models import Sequential\n",
    "from keras.layers import Dense\n",
    "from keras.layers import Dropout\n",
    "from keras.layers import Flatten\n",
    "from keras.layers.convolutional import Conv2D\n",
    "from keras.layers.convolutional import MaxPooling2D\n",
    "from keras.utils import np_utils\n",
    "from keras import backend as K\n",
    "K.set_image_dim_ordering('th')"
   ]
  },
  {
   "cell_type": "code",
   "execution_count": 2,
   "metadata": {},
   "outputs": [],
   "source": [
    "seed = 7\n",
    "np.random.seed(seed)"
   ]
  },
  {
   "cell_type": "code",
   "execution_count": 3,
   "metadata": {},
   "outputs": [],
   "source": [
    "(X_train, y_train), (X_test, y_test) = mnist.load_data()\n",
    "X_train = X_train.reshape(X_train.shape[0], 1, 28, 28).astype('float32')\n",
    "X_test = X_test.reshape(X_test.shape[0], 1, 28, 28).astype('float32')\n",
    "X_train = X_train / 255\n",
    "X_test = X_test / 255"
   ]
  },
  {
   "cell_type": "code",
   "execution_count": 4,
   "metadata": {},
   "outputs": [],
   "source": [
    "y_train = np_utils.to_categorical(y_train)\n",
    "y_test = np_utils.to_categorical(y_test)\n",
    "num_classes = y_test.shape[1]"
   ]
  },
  {
   "cell_type": "code",
   "execution_count": 5,
   "metadata": {},
   "outputs": [],
   "source": [
    "def larger_model():\n",
    "    model = Sequential()\n",
    "    model.add(Conv2D(30, (5, 5), input_shape=(1, 28, 28), activation='relu'))\n",
    "    model.add(MaxPooling2D(pool_size=(2, 2)))\n",
    "    model.add(Conv2D(15, (3, 3), activation='relu'))\n",
    "    model.add(MaxPooling2D(pool_size=(2, 2)))\n",
    "    model.add(Dropout(0.2))\n",
    "    model.add(Flatten())\n",
    "    model.add(Dense(128, activation='relu'))\n",
    "    model.add(Dense(50, activation='relu'))\n",
    "    model.add(Dense(num_classes, activation='softmax'))\n",
    "    model.compile(loss='categorical_crossentropy', optimizer='adam', metrics=['accuracy'])\n",
    "    return model"
   ]
  },
  {
   "cell_type": "code",
   "execution_count": 6,
   "metadata": {},
   "outputs": [
    {
     "name": "stdout",
     "output_type": "stream",
     "text": [
      "Train on 60000 samples, validate on 10000 samples\n",
      "Epoch 1/10\n",
      "60000/60000 [==============================] - 73s 1ms/step - loss: 0.3861 - acc: 0.8825 - val_loss: 0.0917 - val_acc: 0.9714\n",
      "Epoch 2/10\n",
      "60000/60000 [==============================] - 72s 1ms/step - loss: 0.0979 - acc: 0.9699 - val_loss: 0.0554 - val_acc: 0.9826\n",
      "Epoch 3/10\n",
      "60000/60000 [==============================] - 74s 1ms/step - loss: 0.0716 - acc: 0.9783 - val_loss: 0.0416 - val_acc: 0.9869\n",
      "Epoch 4/10\n",
      "60000/60000 [==============================] - 72s 1ms/step - loss: 0.0585 - acc: 0.9817 - val_loss: 0.0344 - val_acc: 0.9892\n",
      "Epoch 5/10\n",
      "60000/60000 [==============================] - 69s 1ms/step - loss: 0.0501 - acc: 0.9844 - val_loss: 0.0327 - val_acc: 0.9893\n",
      "Epoch 6/10\n",
      "60000/60000 [==============================] - 74s 1ms/step - loss: 0.0434 - acc: 0.9859 - val_loss: 0.0298 - val_acc: 0.9908\n",
      "Epoch 7/10\n",
      "60000/60000 [==============================] - 75s 1ms/step - loss: 0.0376 - acc: 0.9884 - val_loss: 0.0303 - val_acc: 0.9900\n",
      "Epoch 8/10\n",
      "60000/60000 [==============================] - 73s 1ms/step - loss: 0.0352 - acc: 0.9885 - val_loss: 0.0267 - val_acc: 0.9908\n",
      "Epoch 9/10\n",
      "60000/60000 [==============================] - 75s 1ms/step - loss: 0.0317 - acc: 0.9902 - val_loss: 0.0235 - val_acc: 0.9925\n",
      "Epoch 10/10\n",
      "60000/60000 [==============================] - 67s 1ms/step - loss: 0.0292 - acc: 0.9908 - val_loss: 0.0266 - val_acc: 0.9913\n",
      "\n",
      "Large CNN error: 0.87%\n"
     ]
    }
   ],
   "source": [
    "model = larger_model()\n",
    "model.fit(X_train, y_train, validation_data=(X_test, y_test), epochs=10, batch_size=200)\n",
    "scores = model.evaluate(X_test, y_test, verbose=0)\n",
    "print('\\nLarge CNN error: %.2f%%' %(100-scores[1]*100))"
   ]
  }
 ],
 "metadata": {
  "kernelspec": {
   "display_name": "Python 3",
   "language": "python",
   "name": "python3"
  },
  "language_info": {
   "codemirror_mode": {
    "name": "ipython",
    "version": 3
   },
   "file_extension": ".py",
   "mimetype": "text/x-python",
   "name": "python",
   "nbconvert_exporter": "python",
   "pygments_lexer": "ipython3",
   "version": "3.6.5"
  }
 },
 "nbformat": 4,
 "nbformat_minor": 2
}
